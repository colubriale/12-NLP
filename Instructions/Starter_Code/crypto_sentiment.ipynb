{
 "cells": [
  {
   "cell_type": "markdown",
   "metadata": {},
   "source": [
    "# Unit 12 - Tales from the Crypto\n",
    "\n",
    "---\n"
   ]
  },
  {
   "cell_type": "markdown",
   "metadata": {},
   "source": [
    "## 1. Sentiment Analysis\n",
    "\n",
    "Use the [newsapi](https://newsapi.org/) to pull the latest news articles for Bitcoin and Ethereum and create a DataFrame of sentiment scores for each coin.\n",
    "\n",
    "Use descriptive statistics to answer the following questions:\n",
    "1. Which coin had the highest mean positive score?\n",
    "2. Which coin had the highest negative score?\n",
    "3. Which coin had the highest positive score?"
   ]
  },
  {
   "cell_type": "code",
   "execution_count": 19,
   "metadata": {},
   "outputs": [
    {
     "name": "stderr",
     "output_type": "stream",
     "text": [
      "[nltk_data] Downloading package vader_lexicon to\n",
      "[nltk_data]     C:\\Users\\Joe\\AppData\\Roaming\\nltk_data...\n",
      "[nltk_data]   Package vader_lexicon is already up-to-date!\n"
     ]
    }
   ],
   "source": [
    "# Initial imports\n",
    "import os\n",
    "import pandas as pd\n",
    "from dotenv import load_dotenv\n",
    "import nltk as nltk\n",
    "nltk.download('vader_lexicon')\n",
    "from nltk.sentiment.vader import SentimentIntensityAnalyzer\n",
    "analyzer = SentimentIntensityAnalyzer()\n",
    "\n",
    "from newsapi.newsapi_client import NewsApiClient\n",
    "import alpaca_trade_api as tradeapi\n",
    "from datetime import datetime, timedelta\n",
    "\n",
    "%matplotlib inline"
   ]
  },
  {
   "cell_type": "code",
   "execution_count": 29,
   "metadata": {},
   "outputs": [],
   "source": [
    "# Read your api key environment variable\n",
    "\n",
    "# Load .env enviroment variables\n",
    "load_dotenv()\n",
    "\n",
    "# Set News API Key\n",
    "newsapi = NewsApiClient(api_key=os.environ[\"NEWS_API_KEY\"])\n",
    "\n",
    "current_date = pd.Timestamp(datetime.now(), tz=\"America/New_York\").isoformat()\n",
    "past_date = pd.Timestamp(datetime.now()- timedelta(2), tz=\"America/New_York\").isoformat()"
   ]
  },
  {
   "cell_type": "code",
   "execution_count": 30,
   "metadata": {},
   "outputs": [],
   "source": [
    "# Create a newsapi client\n",
    "\n",
    "# Use newsapi client to get most relevant 20 headlines per day in the past month\n",
    "def get_articles(keyword):\n",
    "    all_headlines = []\n",
    "    all_dates = []    \n",
    "    date = datetime.strptime(current_date[:10], \"%Y-%m-%d\")\n",
    "    end_date = datetime.strptime(past_date[:10], \"%Y-%m-%d\")\n",
    "    print(f\"Fetching news about '{keyword}'\")\n",
    "    print(\"*\" * 30)\n",
    "    # while date > end_date:\n",
    "    print(f\"retrieving news from: {date}\")\n",
    "    articles = newsapi.get_everything(\n",
    "            q=keyword,\n",
    "            from_param=str(date)[:10],\n",
    "            to=str(date)[:10],\n",
    "            language=\"en\",\n",
    "            sort_by=\"relevancy\",\n",
    "            page=1,\n",
    "        )\n",
    "        \n",
    "#         headlines = []\n",
    "#         for i in range(0, len(articles[\"articles\"])):\n",
    "#             headlines.append(articles[\"articles\"][i][\"title\"])\n",
    "#         all_headlines.append(headlines)\n",
    "#         all_dates.append(date)\n",
    "    date = date - timedelta(days=1)\n",
    "        \n",
    "    return articles"
   ]
  },
  {
   "cell_type": "code",
   "execution_count": 31,
   "metadata": {},
   "outputs": [
    {
     "name": "stdout",
     "output_type": "stream",
     "text": [
      "Fetching news about 'Bitcoin'\n",
      "******************************\n",
      "retrieving news from: 2021-09-22 00:00:00\n"
     ]
    }
   ],
   "source": [
    "# Fetch the Bitcoin news articles\n",
    "# YOUR CODE HERE!\n",
    "#btc_news = get_articles(\"Bitcoin\")"
   ]
  },
  {
   "cell_type": "code",
   "execution_count": 32,
   "metadata": {},
   "outputs": [
    {
     "data": {
      "text/plain": [
       "{'status': 'ok',\n",
       " 'totalResults': 15,\n",
       " 'articles': [{'source': {'id': 'reuters', 'name': 'Reuters'},\n",
       "   'author': None,\n",
       "   'title': 'Dollar near one-month high as Evergrande risks, Fed loom - Reuters',\n",
       "   'description': 'The dollar held below a near one-month high on Wednesday as investors focused on two key risks -- a default by Chinese property developer Evergrande and the expected pace of U.S. monetary policy tightening.',\n",
       "   'url': 'https://www.reuters.com/business/dollar-near-one-month-high-evergrande-risks-fed-loom-2021-09-22/',\n",
       "   'urlToImage': 'https://www.reuters.com/resizer/wWhJ9lSQYm0V74Xapak66YIPfTU=/1200x628/smart/filters:quality(80)/cloudfront-us-east-2.images.arcpublishing.com/reuters/5JCCMQDLSRKMFOMNN4GVOFVTLA.jpg',\n",
       "   'publishedAt': '2021-09-22T00:57:00Z',\n",
       "   'content': \"An employee of the Korea Exchange Bank counts one hundred U.S. dollar notes during a photo opportunity at the bank's headquarters in Seoul April 28, 2010. REUTERS/Jo Yong-HakTOKYO, Sept 22 (Reuters) … [+3182 chars]\"},\n",
       "  {'source': {'id': None, 'name': 'Ubergizmo'},\n",
       "   'author': 'Tyler Lee',\n",
       "   'title': 'Bitcoin Scammers Stole $69,000 Using Fake iPhone 13 Event',\n",
       "   'description': 'It has been about a week since Apple’s iPhone 13 event took place and we’re sure that leading up to the event, many were trying to figure out how to watch it online. A quick Google search would have pulled up the answers, but unfortunately for some, they foun…',\n",
       "   'url': 'https://www.ubergizmo.com/2021/09/bitcoin-scam-iphone-13-event/',\n",
       "   'urlToImage': 'https://i0.wp.com/cdnssl.ubergizmo.com/wp-content/uploads/2014/11/bitcoin-wallet.jpg',\n",
       "   'publishedAt': '2021-09-22T00:51:54Z',\n",
       "   'content': 'It has been about a week since Apple’s iPhone 13 event took place and we’re sure that leading up to the event, many were trying to figure out how to watch it online. A quick Google search would have … [+1224 chars]'},\n",
       "  {'source': {'id': None, 'name': 'Bitcoin Magazine'},\n",
       "   'author': 'Marty Bent',\n",
       "   'title': 'As China Sees Lehman Moment, Bitcoin Is A Godsend',\n",
       "   'description': 'The collapse of Evergrande and Chinese real estate developers underscores the promise of bitcoin, an asset disconnected from the global system.',\n",
       "   'url': 'https://bitcoinmagazine.com/markets/as-china-sees-lehman-moment-bitcoin-is-a-godsend',\n",
       "   'urlToImage': 'https://bitcoinmagazine.com/.image/t_share/MTgwODA0OTg3MDA0MjAwMjk2/satoshi.jpg',\n",
       "   'publishedAt': '2021-09-22T00:00:00Z',\n",
       "   'content': 'The below is a direct excerpt of Marty\\'s Bent Issue #1080: \"Nothing like the smell of credit risk contagion on a Monday morning.\" Sign up for the newsletter here.\\r\\nA few weeks ago we warned you freak… [+4043 chars]'},\n",
       "  {'source': {'id': None, 'name': 'Bitcoinist'},\n",
       "   'author': 'Samuel Wan',\n",
       "   'title': '25% Of Salvadorians Have Downloaded The Bitcoin Wallet Dissolving Fears Of A Revolt',\n",
       "   'description': 'Despite the latest Bitcoin dip, President Nayib Bukele tweeted that 1.6 million Salvadorians now use the Chivo Wallet. With a population of 6.5 million, this figure constitutes a quarter of the country’s population. 1.6 millones de salvadoreños ya utilizan @c…',\n",
       "   'url': 'https://bitcoinist.com/25-of-salvadorians-have-downloaded-the-bitcoin-wallet-dissolving-fears-of-a-revolt/',\n",
       "   'urlToImage': 'https://bitcoinist.com/wp-content/uploads/2021/09/mauricio-cuellar-gLysUycgcF4-unsplash1-scaled.jpg',\n",
       "   'publishedAt': '2021-09-22T00:01:27Z',\n",
       "   'content': 'Despite the latest Bitcoin dip, President Nayib Bukele tweeted that 1.6 million Salvadorians now use the Chivo Wallet. With a population of 6.5 million, this figure constitutes a quarter of the count… [+2848 chars]'},\n",
       "  {'source': {'id': None, 'name': 'newsBTC'},\n",
       "   'author': 'Taylor Scott',\n",
       "   'title': 'After SEC Pressure, Coinbase Decides To Drop Interest Product',\n",
       "   'description': 'It was just a couple weeks ago that Coinbase posted a blog post, paired with a hefty Twitter thread from CEO Brian Armstrong highlighting recent challenges with the SEC. Armstrong described the agency’s behavior as “sketchy” after the SEC seemingly threatened…',\n",
       "   'url': 'https://www.newsbtc.com/news/coinbase-to-drop-interest-product/',\n",
       "   'urlToImage': 'https://www.newsbtc.com/wp-content/uploads/2021/09/pexels-alesia-kozik-6771985.jpeg',\n",
       "   'publishedAt': '2021-09-22T00:28:54Z',\n",
       "   'content': 'It was just a couple weeks ago that Coinbase posted a blog post, paired with a hefty Twitter thread from CEO Brian Armstrong highlighting recent challenges with the SEC.\\r\\nArmstrong described the agen… [+2989 chars]'},\n",
       "  {'source': {'id': None, 'name': 'CNA'},\n",
       "   'author': None,\n",
       "   'title': 'Dollar near one-month high as Evergrande risks, Fed loom',\n",
       "   'description': 'TOKYO :     The dollar held below a near one-month high on Wednesday as investors focused on two key risks - a default by Chinese property developer Evergrande and the expected pace of U.S. monetary policy tightening.The dollar index stood at 93.226 in early …',\n",
       "   'url': 'https://www.channelnewsasia.com/business/dollar-near-one-month-high-evergrande-risks-fed-loom-2193581',\n",
       "   'urlToImage': 'https://onecms-res.cloudinary.com/image/upload/s--VYBzciIN--/fl_relative%2Cg_south_east%2Cl_one-cms:core:watermark:reuters%2Cw_0.1/f_auto%2Cq_auto/c_fill%2Cg_auto%2Ch_676%2Cw_1200/v1/one-cms/core/2021-09-22t005751z_1_lynxmpeh8l017_rtroptp_3_usa-biden-taxes-wealthy.jpg?itok=dxldwsjX',\n",
       "   'publishedAt': '2021-09-22T00:59:39Z',\n",
       "   'content': 'TOKYO : The dollar held below a near one-month high on Wednesday as investors focused on two key risks - a default by Chinese property developer Evergrande and the expected pace of U.S. monetary poli… [+2908 chars]'},\n",
       "  {'source': {'id': None, 'name': 'CNA'},\n",
       "   'author': None,\n",
       "   'title': \"China's high-tech push seeks to reassert global factory dominance\",\n",
       "   'description': \"TIANJIN, China :     At a factory in China's north, workers are busy testing an automated vehicle designed to move bulky items around industrial spaces, one of a new generation of robots Beijing wants to shift the country's manufacturing up the value chain.Th…\",\n",
       "   'url': 'https://www.channelnewsasia.com/business/chinas-high-tech-push-seeks-reassert-global-factory-dominance-2193616',\n",
       "   'urlToImage': 'https://onecms-res.cloudinary.com/image/upload/s--k2R1l_ia--/fl_relative%2Cg_south_east%2Cl_one-cms:core:watermark:reuters%2Cw_0.1/f_auto%2Cq_auto/c_fill%2Cg_auto%2Ch_676%2Cw_1200/v1/one-cms/core/2021-09-22t011335z_1_lynxmpeh8l01m_rtroptp_3_china-economy-manufacturing.jpg?itok=weaJsaRt',\n",
       "   'publishedAt': '2021-09-22T01:19:21Z',\n",
       "   'content': \"TIANJIN, China : At a factory in China's north, workers are busy testing an automated vehicle designed to move bulky items around industrial spaces, one of a new generation of robots Beijing wants to… [+5837 chars]\"},\n",
       "  {'source': {'id': None, 'name': '24/7 Wall St.'},\n",
       "   'author': '247chrislange',\n",
       "   'title': 'Cathie Wood’s ARK Invest Sells for 9/21',\n",
       "   'description': \"Here's a look at what ARK Invest ETFs sold on September 21, 2021.\",\n",
       "   'url': 'https://247wallst.com/investing/2021/09/21/cathie-woods-ark-invest-sells-for-9-21/',\n",
       "   'urlToImage': 'https://247wallst.com/wp-content/uploads/2019/01/gettyimages-933052786.jpg',\n",
       "   'publishedAt': '2021-09-22T00:26:02Z',\n",
       "   'content': 'Markets started out Tuesday on a positive note but only the Nasdaq ended the session higher. ARK Funds bounced back as well with one exception. ARKG performed the best out of the group, up 1.2%, whil… [+5171 chars]'},\n",
       "  {'source': {'id': None, 'name': '24/7 Wall St.'},\n",
       "   'author': '247chrislange',\n",
       "   'title': 'Cathie Wood’s ARK Invest Buys for 9/21',\n",
       "   'description': \"Here's a look at what ARK Invest ETFs bought on September 21, 2021.\",\n",
       "   'url': 'https://247wallst.com/investing/2021/09/21/cathie-woods-ark-invest-buys-for-9-21/',\n",
       "   'urlToImage': 'https://247wallst.com/wp-content/uploads/2017/12/buying-flight-tickets.jpg',\n",
       "   'publishedAt': '2021-09-22T00:22:42Z',\n",
       "   'content': 'Markets bounced back if only slightly on Tuesday with only the Nasdaq posting a gain for the day. ARK Funds followed suit for the most part. ARKG performed the best out of the group, up 1.2% on the d… [+6427 chars]'},\n",
       "  {'source': {'id': None, 'name': 'Seeking Alpha'},\n",
       "   'author': 'Alexander J Poulos',\n",
       "   'title': 'Grayscale Bitcoin Trust: A New Bull Emerges',\n",
       "   'description': \"Bitcoin's price rose as it became legal tender in El Salvador only to sell-off post the event. Discover the best strategy for investing in GBTC and BTC-USD.\",\n",
       "   'url': 'https://seekingalpha.com/article/4456450-grayscale-bitcoin-trust-a-new-bull-emerges',\n",
       "   'urlToImage': 'https://static.seekingalpha.com/cdn/s3/uploads/getty_images/1312255802/large_image_1312255802.jpg',\n",
       "   'publishedAt': '2021-09-22T00:11:22Z',\n",
       "   'content': 'MicroStockHub/E+ via Getty Images\\r\\nA comprehensive review of the Grayscale Bitcoin Trust (OTC:GBTC) must begin with an overview of the events affecting Bitcoin (BTC-USD) to gain a complete view of th… [+5789 chars]'},\n",
       "  {'source': {'id': 'the-times-of-india', 'name': 'The Times of India'},\n",
       "   'author': 'ET TEAM',\n",
       "   'title': 'ET Startup Awards 2021: Nominees for Comeback Kid',\n",
       "   'description': 'This award celebrates failure and recognises those who have survived to tell the tale. It will be given to entrepreneurs who rebuild or launch a more successful business.',\n",
       "   'url': 'https://economictimes.indiatimes.com/tech/startups/et-startup-awards-2021-nominees-for-comeback-kid/articleshow/86394130.cms',\n",
       "   'urlToImage': 'https://img.etimg.com/thumb/msid-86395141,width-1070,height-580,imgsize-53266,overlay-ettech/photo.jpg',\n",
       "   'publishedAt': '2021-09-22T00:30:00Z',\n",
       "   'content': 'This award celebrates failure and recognises those who have survived to tell the tale. It will be given to entrepreneurs who rebuild or launch a more successful business.\\r\\nNiraj SinghCurrent Venture:… [+2605 chars]'},\n",
       "  {'source': {'id': None, 'name': 'DailyFX'},\n",
       "   'author': 'Tammy Da Costa',\n",
       "   'title': 'Bitcoin Outlook Update: BTC/USD Selloff Continues – Key Levels to Watch',\n",
       "   'description': 'Bitcoin (BTC) prices are testing critical support as fundamental factors weigh on speculative assets ahead of the FOMC monetary policy announcement.',\n",
       "   'url': 'https://www.dailyfx.com/forex/market_alert/2021/09/22/Bitcoin-Outlook-Update-BTCUSD-Selloff-Continues--Key-Levels-to-Watch-LiveEdu-tdc.html',\n",
       "   'urlToImage': 'https://a.c-dn.net/b/2oVo47/headline_shutterstock_365875643.jpg',\n",
       "   'publishedAt': '2021-09-22T00:06:00Z',\n",
       "   'content': 'Bitcoin, BTC/USD, FOMC Rate Decision, Technical Analysis – Talking Points\\r\\n<ul><li>Bitcoin (BTC/USD) retests critical support ahead of the FOMC rate decision</li><li>Demand for the major cryptocurren… [+2021 chars]'},\n",
       "  {'source': {'id': 'the-hill', 'name': 'The Hill'},\n",
       "   'author': 'Celine Castronuovo',\n",
       "   'title': \"El Salvador's president labels himself world's 'coolest dictator' in Twitter bio\",\n",
       "   'description': 'El Salvador President Nayib Bukele on Tuesday changed his Twitter bio to declared himself \"the coolest dictator in the world,\" as the leader faces growing pushback in hi...',\n",
       "   'url': 'https://thehill.com/policy/international/americas/573310-el-salvadors-president-labels-himself-worlds-coolest-dictator',\n",
       "   'urlToImage': 'https://thehill.com/sites/default/files/bukele.nayib_.getty_.070219.jpg',\n",
       "   'publishedAt': '2021-09-22T00:07:50Z',\n",
       "   'content': 'El Salvador President Nayib Bukele on Tuesday changed his Twitter bio to declared himself the coolest dictator in the world, as the leader faces growing pushback in his country from opponents who say… [+2603 chars]'},\n",
       "  {'source': {'id': None, 'name': 'Mondoplayer.com'},\n",
       "   'author': 'Curator',\n",
       "   'title': 'Rosewalk hospital Review By Marketing Manager Jasleen Kaur [Video]',\n",
       "   'description': '#BrandingPioneersGet Update with us on our other platforms:-Facebook:- http://bit.ly/2ktWAddInstagram:- http://bit.ly/2k3CeY8Linkedin:- http://bit.ly/2ktzCCO...',\n",
       "   'url': 'https://vlog.mondoplayer.com/rosewalk-hospital-review-by-marketing-manager-jasleen-kaur-video/',\n",
       "   'urlToImage': 'https://vlog.mondoplayer.com/wp-content/uploads/2021/09/mp_85968_0_0jpg.jpg',\n",
       "   'publishedAt': '2021-09-22T01:04:09Z',\n",
       "   'content': 'Grab your Collagen right here: http://www.healthwithflix.comGet Cool Designs for any Shirt, Hoodie, Mug, etc... (*Great Gift Idea): http://bit.ly/HighImpactFlix-Merch Get an INSTANT $50 OFF Survival … [+4395 chars]'},\n",
       "  {'source': {'id': 'bloomberg', 'name': 'Bloomberg'},\n",
       "   'author': 'Andreea Papuc',\n",
       "   'title': 'U.S. Futures, Stocks Fall With Focus on China, Fed: Markets Wrap',\n",
       "   'description': 'Asian stocks and U.S. futures fell Wednesday as traders assess the debt crisis at China Evergrande Group and gird for a Federal Reserve meeting that is expected to signal a reduction in stimulus later this year.',\n",
       "   'url': 'https://www.bloomberg.com/news/articles/2021-09-21/asia-stocks-set-for-muted-open-with-focus-on-china-markets-wrap',\n",
       "   'urlToImage': 'https://assets.bwbx.io/images/users/iqjWHBFdfxIU/iNmczUfK6tIE/v1/1200x800.jpg',\n",
       "   'publishedAt': '2021-09-22T00:38:00Z',\n",
       "   'content': 'Asian stocks and U.S. futures fell Wednesday as traders assess the debt crisis at China Evergrande Group and gird for a Federal Reserve meeting that is expected to signal a reduction in stimulus late… [+3230 chars]'}]}"
      ]
     },
     "execution_count": 32,
     "metadata": {},
     "output_type": "execute_result"
    }
   ],
   "source": [
    "# Fetch the Ethereum news articles\n",
    "btc_news"
   ]
  },
  {
   "cell_type": "code",
   "execution_count": 35,
   "metadata": {},
   "outputs": [
    {
     "data": {
      "text/plain": [
       "[\"An employee of the Korea Exchange Bank counts one hundred U.S. dollar notes during a photo opportunity at the bank's headquarters in Seoul April 28, 2010. REUTERS/Jo Yong-HakTOKYO, Sept 22 (Reuters) … [+3182 chars]\",\n",
       " 'It has been about a week since Apple’s iPhone 13 event took place and we’re sure that leading up to the event, many were trying to figure out how to watch it online. A quick Google search would have … [+1224 chars]',\n",
       " 'The below is a direct excerpt of Marty\\'s Bent Issue #1080: \"Nothing like the smell of credit risk contagion on a Monday morning.\" Sign up for the newsletter here.\\r\\nA few weeks ago we warned you freak… [+4043 chars]',\n",
       " 'Despite the latest Bitcoin dip, President Nayib Bukele tweeted that 1.6 million Salvadorians now use the Chivo Wallet. With a population of 6.5 million, this figure constitutes a quarter of the count… [+2848 chars]',\n",
       " 'It was just a couple weeks ago that Coinbase posted a blog post, paired with a hefty Twitter thread from CEO Brian Armstrong highlighting recent challenges with the SEC.\\r\\nArmstrong described the agen… [+2989 chars]',\n",
       " 'TOKYO : The dollar held below a near one-month high on Wednesday as investors focused on two key risks - a default by Chinese property developer Evergrande and the expected pace of U.S. monetary poli… [+2908 chars]',\n",
       " \"TIANJIN, China : At a factory in China's north, workers are busy testing an automated vehicle designed to move bulky items around industrial spaces, one of a new generation of robots Beijing wants to… [+5837 chars]\",\n",
       " 'Markets started out Tuesday on a positive note but only the Nasdaq ended the session higher. ARK Funds bounced back as well with one exception. ARKG performed the best out of the group, up 1.2%, whil… [+5171 chars]',\n",
       " 'Markets bounced back if only slightly on Tuesday with only the Nasdaq posting a gain for the day. ARK Funds followed suit for the most part. ARKG performed the best out of the group, up 1.2% on the d… [+6427 chars]',\n",
       " 'MicroStockHub/E+ via Getty Images\\r\\nA comprehensive review of the Grayscale Bitcoin Trust (OTC:GBTC) must begin with an overview of the events affecting Bitcoin (BTC-USD) to gain a complete view of th… [+5789 chars]',\n",
       " 'This award celebrates failure and recognises those who have survived to tell the tale. It will be given to entrepreneurs who rebuild or launch a more successful business.\\r\\nNiraj SinghCurrent Venture:… [+2605 chars]',\n",
       " 'Bitcoin, BTC/USD, FOMC Rate Decision, Technical Analysis – Talking Points\\r\\n<ul><li>Bitcoin (BTC/USD) retests critical support ahead of the FOMC rate decision</li><li>Demand for the major cryptocurren… [+2021 chars]',\n",
       " 'El Salvador President Nayib Bukele on Tuesday changed his Twitter bio to declared himself the coolest dictator in the world, as the leader faces growing pushback in his country from opponents who say… [+2603 chars]',\n",
       " 'Grab your Collagen right here: http://www.healthwithflix.comGet Cool Designs for any Shirt, Hoodie, Mug, etc... (*Great Gift Idea): http://bit.ly/HighImpactFlix-Merch Get an INSTANT $50 OFF Survival … [+4395 chars]',\n",
       " 'Asian stocks and U.S. futures fell Wednesday as traders assess the debt crisis at China Evergrande Group and gird for a Federal Reserve meeting that is expected to signal a reduction in stimulus late… [+3230 chars]']"
      ]
     },
     "execution_count": 35,
     "metadata": {},
     "output_type": "execute_result"
    }
   ],
   "source": [
    "articles = btc_news\n",
    "headlines = []\n",
    "body = []\n",
    "\n",
    "for i in range(0, len(articles[\"articles\"])):\n",
    "    headlines.append(articles[\"articles\"][i][\"title\"])\n",
    "    body.append(articles[\"articles\"][i][\"content\"])     \n",
    "#headlines\n",
    "body\n"
   ]
  },
  {
   "cell_type": "code",
   "execution_count": 6,
   "metadata": {},
   "outputs": [],
   "source": [
    "# Create the Bitcoin sentiment scores DataFrame\n",
    "def headline_sentiment_summarizer_avg(headlines):\n",
    "    sentiment = []\n",
    "    for day in headlines:\n",
    "        day_score = []\n",
    "        for h in day:\n",
    "            if h == None:\n",
    "                continue\n",
    "            else:\n",
    "                day_score.append(sid.polarity_scores(h)[\"compound\"])\n",
    "        sentiment.append(sum(day_score) / len(day_score))\n",
    "    return sentiment"
   ]
  },
  {
   "cell_type": "code",
   "execution_count": 7,
   "metadata": {},
   "outputs": [],
   "source": [
    "# Create the Ethereum sentiment scores DataFrame\n",
    "# YOUR CODE HERE!"
   ]
  },
  {
   "cell_type": "code",
   "execution_count": 8,
   "metadata": {},
   "outputs": [],
   "source": [
    "# Describe the Bitcoin Sentiment\n",
    "# YOUR CODE HERE!"
   ]
  },
  {
   "cell_type": "code",
   "execution_count": 9,
   "metadata": {},
   "outputs": [],
   "source": [
    "# Describe the Ethereum Sentiment\n",
    "# YOUR CODE HERE!"
   ]
  },
  {
   "cell_type": "markdown",
   "metadata": {},
   "source": [
    "### Questions:\n",
    "\n",
    "Q: Which coin had the highest mean positive score?\n",
    "\n",
    "A: \n",
    "\n",
    "Q: Which coin had the highest compound score?\n",
    "\n",
    "A: \n",
    "\n",
    "Q. Which coin had the highest positive score?\n",
    "\n",
    "A: "
   ]
  },
  {
   "cell_type": "markdown",
   "metadata": {},
   "source": [
    "---"
   ]
  },
  {
   "cell_type": "markdown",
   "metadata": {},
   "source": [
    "## 2. Natural Language Processing\n",
    "---\n",
    "###   Tokenizer\n",
    "\n",
    "In this section, you will use NLTK and Python to tokenize the text for each coin. Be sure to:\n",
    "1. Lowercase each word.\n",
    "2. Remove Punctuation.\n",
    "3. Remove Stopwords."
   ]
  },
  {
   "cell_type": "code",
   "execution_count": 10,
   "metadata": {},
   "outputs": [],
   "source": [
    "from nltk.tokenize import word_tokenize, sent_tokenize\n",
    "from nltk.corpus import stopwords\n",
    "from nltk.stem import WordNetLemmatizer, PorterStemmer\n",
    "from string import punctuation\n",
    "import re"
   ]
  },
  {
   "cell_type": "code",
   "execution_count": 11,
   "metadata": {},
   "outputs": [],
   "source": [
    "# Instantiate the lemmatizer\n",
    "# YOUR CODE HERE!\n",
    "\n",
    "# Create a list of stopwords\n",
    "# YOUR CODE HERE!\n",
    "\n",
    "# Expand the default stopwords list if necessary\n",
    "# YOUR CODE HERE!"
   ]
  },
  {
   "cell_type": "code",
   "execution_count": 12,
   "metadata": {},
   "outputs": [],
   "source": [
    "# Complete the tokenizer function\n",
    "def tokenizer(text):\n",
    "    \"\"\"Tokenizes text.\"\"\"\n",
    "    \n",
    "    # Remove the punctuation from text\n",
    "\n",
    "   \n",
    "    # Create a tokenized list of the words\n",
    "    \n",
    "    \n",
    "    # Lemmatize words into root words\n",
    "\n",
    "   \n",
    "    # Convert the words to lowercase\n",
    "    \n",
    "    \n",
    "    # Remove the stop words\n",
    "    \n",
    "    \n",
    "    return tokens"
   ]
  },
  {
   "cell_type": "code",
   "execution_count": 13,
   "metadata": {},
   "outputs": [],
   "source": [
    "# Create a new tokens column for Bitcoin\n",
    "# YOUR CODE HERE!"
   ]
  },
  {
   "cell_type": "code",
   "execution_count": 14,
   "metadata": {},
   "outputs": [],
   "source": [
    "# Create a new tokens column for Ethereum\n",
    "# YOUR CODE HERE!"
   ]
  },
  {
   "cell_type": "markdown",
   "metadata": {},
   "source": [
    "---"
   ]
  },
  {
   "cell_type": "markdown",
   "metadata": {},
   "source": [
    "### NGrams and Frequency Analysis\n",
    "\n",
    "In this section you will look at the ngrams and word frequency for each coin. \n",
    "\n",
    "1. Use NLTK to produce the n-grams for N = 2. \n",
    "2. List the top 10 words for each coin. "
   ]
  },
  {
   "cell_type": "code",
   "execution_count": 15,
   "metadata": {},
   "outputs": [],
   "source": [
    "from collections import Counter\n",
    "from nltk import ngrams"
   ]
  },
  {
   "cell_type": "code",
   "execution_count": 16,
   "metadata": {},
   "outputs": [],
   "source": [
    "# Generate the Bitcoin N-grams where N=2\n",
    "# YOUR CODE HERE!"
   ]
  },
  {
   "cell_type": "code",
   "execution_count": 17,
   "metadata": {},
   "outputs": [],
   "source": [
    "# Generate the Ethereum N-grams where N=2\n",
    "# YOUR CODE HERE!"
   ]
  },
  {
   "cell_type": "code",
   "execution_count": 18,
   "metadata": {},
   "outputs": [],
   "source": [
    "# Function token_count generates the top 10 words for a given coin\n",
    "def token_count(tokens, N=3):\n",
    "    \"\"\"Returns the top N tokens from the frequency count\"\"\"\n",
    "    return Counter(tokens).most_common(N)"
   ]
  },
  {
   "cell_type": "code",
   "execution_count": 19,
   "metadata": {},
   "outputs": [],
   "source": [
    "# Use token_count to get the top 10 words for Bitcoin\n",
    "# YOUR CODE HERE!"
   ]
  },
  {
   "cell_type": "code",
   "execution_count": 20,
   "metadata": {},
   "outputs": [],
   "source": [
    "# Use token_count to get the top 10 words for Ethereum\n",
    "# YOUR CODE HERE!"
   ]
  },
  {
   "cell_type": "markdown",
   "metadata": {},
   "source": [
    "---"
   ]
  },
  {
   "cell_type": "markdown",
   "metadata": {},
   "source": [
    "### Word Clouds\n",
    "\n",
    "In this section, you will generate word clouds for each coin to summarize the news for each coin"
   ]
  },
  {
   "cell_type": "code",
   "execution_count": 21,
   "metadata": {},
   "outputs": [],
   "source": [
    "from wordcloud import WordCloud\n",
    "import matplotlib.pyplot as plt\n",
    "plt.style.use('seaborn-whitegrid')\n",
    "import matplotlib as mpl\n",
    "mpl.rcParams['figure.figsize'] = [20.0, 10.0]"
   ]
  },
  {
   "cell_type": "code",
   "execution_count": 22,
   "metadata": {},
   "outputs": [],
   "source": [
    "# Generate the Bitcoin word cloud\n",
    "# YOUR CODE HERE!"
   ]
  },
  {
   "cell_type": "code",
   "execution_count": 23,
   "metadata": {},
   "outputs": [],
   "source": [
    "# Generate the Ethereum word cloud\n",
    "# YOUR CODE HERE!"
   ]
  },
  {
   "cell_type": "markdown",
   "metadata": {},
   "source": [
    "---\n",
    "## 3. Named Entity Recognition\n",
    "\n",
    "In this section, you will build a named entity recognition model for both Bitcoin and Ethereum, then visualize the tags using SpaCy."
   ]
  },
  {
   "cell_type": "code",
   "execution_count": 24,
   "metadata": {},
   "outputs": [],
   "source": [
    "import spacy\n",
    "from spacy import displacy"
   ]
  },
  {
   "cell_type": "code",
   "execution_count": 25,
   "metadata": {},
   "outputs": [],
   "source": [
    "# Download the language model for SpaCy\n",
    "# !python -m spacy download en_core_web_sm"
   ]
  },
  {
   "cell_type": "code",
   "execution_count": 26,
   "metadata": {},
   "outputs": [],
   "source": [
    "# Load the spaCy model\n",
    "nlp = spacy.load('en_core_web_sm')"
   ]
  },
  {
   "cell_type": "markdown",
   "metadata": {},
   "source": [
    "---\n",
    "### Bitcoin NER"
   ]
  },
  {
   "cell_type": "code",
   "execution_count": 27,
   "metadata": {},
   "outputs": [],
   "source": [
    "# Concatenate all of the Bitcoin text together\n",
    "# YOUR CODE HERE!"
   ]
  },
  {
   "cell_type": "code",
   "execution_count": 28,
   "metadata": {},
   "outputs": [],
   "source": [
    "# Run the NER processor on all of the text\n",
    "# YOUR CODE HERE!\n",
    "\n",
    "# Add a title to the document\n",
    "# YOUR CODE HERE!"
   ]
  },
  {
   "cell_type": "code",
   "execution_count": 29,
   "metadata": {},
   "outputs": [],
   "source": [
    "# Render the visualization\n",
    "# YOUR CODE HERE!"
   ]
  },
  {
   "cell_type": "code",
   "execution_count": 30,
   "metadata": {},
   "outputs": [],
   "source": [
    "# List all Entities\n",
    "# YOUR CODE HERE!"
   ]
  },
  {
   "cell_type": "markdown",
   "metadata": {},
   "source": [
    "---"
   ]
  },
  {
   "cell_type": "markdown",
   "metadata": {},
   "source": [
    "### Ethereum NER"
   ]
  },
  {
   "cell_type": "code",
   "execution_count": 31,
   "metadata": {},
   "outputs": [],
   "source": [
    "# Concatenate all of the Ethereum text together\n",
    "# YOUR CODE HERE!"
   ]
  },
  {
   "cell_type": "code",
   "execution_count": 32,
   "metadata": {},
   "outputs": [],
   "source": [
    "# Run the NER processor on all of the text\n",
    "# YOUR CODE HERE!\n",
    "\n",
    "# Add a title to the document\n",
    "# YOUR CODE HERE!"
   ]
  },
  {
   "cell_type": "code",
   "execution_count": 33,
   "metadata": {},
   "outputs": [],
   "source": [
    "# Render the visualization\n",
    "# YOUR CODE HERE!"
   ]
  },
  {
   "cell_type": "code",
   "execution_count": 34,
   "metadata": {},
   "outputs": [],
   "source": [
    "# List all Entities\n",
    "# YOUR CODE HERE!"
   ]
  },
  {
   "cell_type": "markdown",
   "metadata": {},
   "source": [
    "---"
   ]
  }
 ],
 "metadata": {
  "file_extension": ".py",
  "kernelspec": {
   "display_name": "Python 3",
   "language": "python",
   "name": "python3"
  },
  "language_info": {
   "codemirror_mode": {
    "name": "ipython",
    "version": 3
   },
   "file_extension": ".py",
   "mimetype": "text/x-python",
   "name": "python",
   "nbconvert_exporter": "python",
   "pygments_lexer": "ipython3",
   "version": "3.7.10"
  },
  "mimetype": "text/x-python",
  "name": "python",
  "npconvert_exporter": "python",
  "pygments_lexer": "ipython3",
  "version": 3
 },
 "nbformat": 4,
 "nbformat_minor": 4
}
